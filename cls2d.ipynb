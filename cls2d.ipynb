{
 "cells": [
  {
   "cell_type": "code",
   "execution_count": 1,
   "id": "55e73551",
   "metadata": {},
   "outputs": [],
   "source": [
    "from cls2d import *"
   ]
  },
  {
   "cell_type": "code",
   "execution_count": 11,
   "id": "0de1384c",
   "metadata": {},
   "outputs": [],
   "source": [
    "import torch.nn.functional as F\n",
    "import numpy as np"
   ]
  },
  {
   "cell_type": "code",
   "execution_count": 3,
   "id": "bc349af0",
   "metadata": {},
   "outputs": [],
   "source": [
    "# model list\n",
    "# timm.models.vit_small_patch16_224_in21k\n",
    "# resnet50d\n",
    "# vit_small_patch16_224_in21k\n",
    "# vit_base_patch16_224_in21k\n",
    "# swinv2_base_window12to16_192to256_22kft1k\n",
    "# deit3_small_patch16_224_in21ft1k\n",
    "# beit_base_patch16_224"
   ]
  },
  {
   "cell_type": "code",
   "execution_count": 3,
   "id": "046499d7",
   "metadata": {
    "scrolled": true
   },
   "outputs": [
    {
     "name": "stderr",
     "output_type": "stream",
     "text": [
      "/home/qizekun/anaconda3/lib/python3.8/site-packages/torch/functional.py:568: UserWarning: torch.meshgrid: in an upcoming release, it will be required to pass the indexing argument. (Triggered internally at  ../aten/src/ATen/native/TensorShape.cpp:2228.)\n",
      "  return _VF.meshgrid(tensors, **kwargs)  # type: ignore[attr-defined]\n"
     ]
    },
    {
     "name": "stdout",
     "output_type": "stream",
     "text": [
      "training: 101%[**************************************************->]\n",
      " 135.50990803699824\n",
      "[epoch 1] train_loss: 0.305 val_loss: 0.079  test_accuracy: 97.581\n",
      "training: 100%[*************************************************->]]\n",
      " 137.2311647280003\n",
      "[epoch 2] train_loss: 0.152 val_loss: 0.055  test_accuracy: 97.849\n",
      "training: 100%[*************************************************->]]\n",
      " 138.503581262019\n",
      "[epoch 3] train_loss: 0.137 val_loss: 0.035  test_accuracy: 98.925\n",
      "training: 100%[*************************************************->]]\n",
      " 138.49366123098298\n",
      "[epoch 4] train_loss: 0.121 val_loss: 0.062  test_accuracy: 98.656\n",
      "training: 100%[*************************************************->]]\n",
      " 138.69995427998947\n",
      "[epoch 5] train_loss: 0.143 val_loss: 0.111  test_accuracy: 97.849\n",
      "training: 100%[*************************************************->]]\n",
      " 138.84360211499734\n",
      "[epoch 6] train_loss: 0.149 val_loss: 0.070  test_accuracy: 98.925\n",
      "training: 100%[*************************************************->]]\n",
      " 138.5612817700021\n",
      "[epoch 7] train_loss: 0.156 val_loss: 0.140  test_accuracy: 96.505\n",
      "training: 100%[*************************************************->]]\n",
      " 138.60963552899193\n",
      "Epoch 00008: reducing learning rate of group 0 to 1.0000e-05.\n",
      "Epoch 00008: reducing learning rate of group 1 to 1.0000e-04.\n",
      "[epoch 8] train_loss: 0.145 val_loss: 0.095  test_accuracy: 97.043\n",
      "training: 100%[*************************************************->]]\n",
      " 138.70741459200508\n",
      "[epoch 9] train_loss: 0.082 val_loss: 0.077  test_accuracy: 97.849\n",
      "training: 100%[*************************************************->]]\n",
      " 138.83353677100968\n",
      "[epoch 10] train_loss: 0.070 val_loss: 0.056  test_accuracy: 97.581\n",
      "training: 100%[*************************************************->]]\n",
      " 139.02978107699892\n",
      "[epoch 11] train_loss: 0.064 val_loss: 0.074  test_accuracy: 97.043\n",
      "training:  2 %[*->................................................]"
     ]
    },
    {
     "ename": "KeyboardInterrupt",
     "evalue": "",
     "output_type": "error",
     "traceback": [
      "\u001b[0;31m---------------------------------------------------------------------------\u001b[0m",
      "\u001b[0;31mKeyboardInterrupt\u001b[0m                         Traceback (most recent call last)",
      "\u001b[0;32m<ipython-input-3-95b46feeb328>\u001b[0m in \u001b[0;36m<module>\u001b[0;34m\u001b[0m\n\u001b[1;32m     13\u001b[0m \u001b[0mmodel\u001b[0m\u001b[0;34m.\u001b[0m\u001b[0mdataset\u001b[0m \u001b[0;34m=\u001b[0m \u001b[0;34m'flower'\u001b[0m\u001b[0;34m\u001b[0m\u001b[0;34m\u001b[0m\u001b[0m\n\u001b[1;32m     14\u001b[0m \u001b[0mmodel\u001b[0m\u001b[0;34m.\u001b[0m\u001b[0mload_dataset\u001b[0m\u001b[0;34m(\u001b[0m\u001b[0;34m'../../data/flower'\u001b[0m\u001b[0;34m)\u001b[0m\u001b[0;34m\u001b[0m\u001b[0;34m\u001b[0m\u001b[0m\n\u001b[0;32m---> 15\u001b[0;31m \u001b[0mmodel\u001b[0m\u001b[0;34m.\u001b[0m\u001b[0mtrain\u001b[0m\u001b[0;34m(\u001b[0m\u001b[0;34m)\u001b[0m\u001b[0;34m\u001b[0m\u001b[0;34m\u001b[0m\u001b[0m\n\u001b[0m",
      "\u001b[0;32m~/OneDrive/Desktop/model/classification.py\u001b[0m in \u001b[0;36mtrain\u001b[0;34m(self)\u001b[0m\n\u001b[1;32m    192\u001b[0m \u001b[0;34m\u001b[0m\u001b[0m\n\u001b[1;32m    193\u001b[0m             \u001b[0mself\u001b[0m\u001b[0;34m.\u001b[0m\u001b[0mnet\u001b[0m\u001b[0;34m.\u001b[0m\u001b[0mzero_grad\u001b[0m\u001b[0;34m(\u001b[0m\u001b[0;34m)\u001b[0m\u001b[0;34m\u001b[0m\u001b[0;34m\u001b[0m\u001b[0m\n\u001b[0;32m--> 194\u001b[0;31m             \u001b[0moptimizer\u001b[0m\u001b[0;34m.\u001b[0m\u001b[0mzero_grad\u001b[0m\u001b[0;34m(\u001b[0m\u001b[0;34m)\u001b[0m\u001b[0;34m\u001b[0m\u001b[0;34m\u001b[0m\u001b[0m\n\u001b[0m\u001b[1;32m    195\u001b[0m             \u001b[0mloss\u001b[0m\u001b[0;34m.\u001b[0m\u001b[0mbackward\u001b[0m\u001b[0;34m(\u001b[0m\u001b[0;34m)\u001b[0m\u001b[0;34m\u001b[0m\u001b[0;34m\u001b[0m\u001b[0m\n\u001b[1;32m    196\u001b[0m             \u001b[0moptimizer\u001b[0m\u001b[0;34m.\u001b[0m\u001b[0mstep\u001b[0m\u001b[0;34m(\u001b[0m\u001b[0;34m)\u001b[0m\u001b[0;34m\u001b[0m\u001b[0;34m\u001b[0m\u001b[0m\n",
      "\u001b[0;32m~/anaconda3/lib/python3.8/site-packages/torch/optim/optimizer.py\u001b[0m in \u001b[0;36mzero_grad\u001b[0;34m(self, set_to_none)\u001b[0m\n\u001b[1;32m    220\u001b[0m                                 \u001b[0mp\u001b[0m\u001b[0;34m.\u001b[0m\u001b[0mgrad\u001b[0m\u001b[0;34m.\u001b[0m\u001b[0mrequires_grad_\u001b[0m\u001b[0;34m(\u001b[0m\u001b[0;32mFalse\u001b[0m\u001b[0;34m)\u001b[0m\u001b[0;34m\u001b[0m\u001b[0;34m\u001b[0m\u001b[0m\n\u001b[1;32m    221\u001b[0m                             \u001b[0;32mif\u001b[0m \u001b[0;34m(\u001b[0m\u001b[0;32mnot\u001b[0m \u001b[0mforeach\u001b[0m \u001b[0;32mor\u001b[0m \u001b[0mp\u001b[0m\u001b[0;34m.\u001b[0m\u001b[0mgrad\u001b[0m\u001b[0;34m.\u001b[0m\u001b[0mis_sparse\u001b[0m\u001b[0;34m)\u001b[0m\u001b[0;34m:\u001b[0m\u001b[0;34m\u001b[0m\u001b[0;34m\u001b[0m\u001b[0m\n\u001b[0;32m--> 222\u001b[0;31m                                 \u001b[0mp\u001b[0m\u001b[0;34m.\u001b[0m\u001b[0mgrad\u001b[0m\u001b[0;34m.\u001b[0m\u001b[0mzero_\u001b[0m\u001b[0;34m(\u001b[0m\u001b[0;34m)\u001b[0m\u001b[0;34m\u001b[0m\u001b[0;34m\u001b[0m\u001b[0m\n\u001b[0m\u001b[1;32m    223\u001b[0m                             \u001b[0;32melse\u001b[0m\u001b[0;34m:\u001b[0m\u001b[0;34m\u001b[0m\u001b[0;34m\u001b[0m\u001b[0m\n\u001b[1;32m    224\u001b[0m                                 \u001b[0mper_device_and_dtype_grads\u001b[0m\u001b[0;34m[\u001b[0m\u001b[0mp\u001b[0m\u001b[0;34m.\u001b[0m\u001b[0mgrad\u001b[0m\u001b[0;34m.\u001b[0m\u001b[0mdevice\u001b[0m\u001b[0;34m]\u001b[0m\u001b[0;34m[\u001b[0m\u001b[0mp\u001b[0m\u001b[0;34m.\u001b[0m\u001b[0mgrad\u001b[0m\u001b[0;34m.\u001b[0m\u001b[0mdtype\u001b[0m\u001b[0;34m]\u001b[0m\u001b[0;34m.\u001b[0m\u001b[0mappend\u001b[0m\u001b[0;34m(\u001b[0m\u001b[0mp\u001b[0m\u001b[0;34m.\u001b[0m\u001b[0mgrad\u001b[0m\u001b[0;34m)\u001b[0m\u001b[0;34m\u001b[0m\u001b[0;34m\u001b[0m\u001b[0m\n",
      "\u001b[0;31mKeyboardInterrupt\u001b[0m: "
     ]
    }
   ],
   "source": [
    "model = Cls2d(model='resmlp_12_distilled_224')\n",
    "model.lr = 1e-5\n",
    "model.batch_size = 12\n",
    "model.epochs = 30\n",
    "model.pretrain = True\n",
    "model.gpu = \"0\"\n",
    "model.optimizer = 'radam'\n",
    "# model.LabelSmoothing = 0.1\n",
    "model.save = True\n",
    "\n",
    "# model.resize_size = 280\n",
    "# model.crop_size = 256\n",
    "\n",
    "model.dataset = 'flower'\n",
    "model.load_dataset('../../data/flower')\n",
    "model.train()\n"
   ]
  },
  {
   "cell_type": "code",
   "execution_count": 4,
   "id": "6af6e831",
   "metadata": {},
   "outputs": [
    {
     "name": "stdout",
     "output_type": "stream",
     "text": [
      "tensor([[[ -0.7314,  -6.2715,   5.8027,  ...,  -1.8092, -12.3650,   1.7414],\n",
      "         [  3.5016,  -6.1084,   8.0409,  ...,  -3.9806, -10.7852,  -3.0839],\n",
      "         [ -5.2869,   3.6159,  13.1412,  ...,  -3.1867,  -9.7735, -14.8042],\n",
      "         ...,\n",
      "         [ -0.5645,  -0.2922,   1.7265,  ...,   2.8198,  -2.9246,  -5.4296],\n",
      "         [  0.4297,   0.5441,   3.9934,  ...,   4.3536, -12.0629,  -2.9683],\n",
      "         [  6.5544,   5.5490,  14.8346,  ...,  10.2959, -33.8330,  -0.4094]]],\n",
      "       device='cuda:0', grad_fn=<AddcmulBackward0>)\n",
      "tensor([[ 3.4205, -1.7524,  2.5466, -4.0340, -1.2080]], device='cuda:0',\n",
      "       grad_fn=<AddmmBackward0>)\n"
     ]
    }
   ],
   "source": [
    "model = Cls2d(model='resmlp_12_distilled_224')\n",
    "model.lr = 1e-5\n",
    "model.batch_size = 32\n",
    "model.epochs = 30\n",
    "model.pretrain = True\n",
    "model.gpu = \"0\"\n",
    "model.optimizer = 'radam'\n",
    "# model.LabelSmoothing = 0.1vit_large_patch16_224_in21k\n",
    "model.save = True\n",
    "\n",
    "model.dataset = 'flower'\n",
    "model.load_dataset('../../data/flower')\n",
    "\n",
    "model.pretrain_path = 'work_dir/cls2d/flower/resmlp_12_distilled_224/resmlp_12_distilled_224.pth'\n",
    "feature, result = model.inference(image_path='../../data/flower/val/daisy/5673728_71b8cb57eb.jpg')\n",
    "print(feature)\n",
    "print(result)"
   ]
  },
  {
   "cell_type": "code",
   "execution_count": 6,
   "id": "6752fd43",
   "metadata": {},
   "outputs": [],
   "source": [
    "feature = feature.squeeze(0)"
   ]
  },
  {
   "cell_type": "code",
   "execution_count": 7,
   "id": "588bbba6",
   "metadata": {},
   "outputs": [
    {
     "data": {
      "text/plain": [
       "torch.Size([196, 384])"
      ]
     },
     "execution_count": 7,
     "metadata": {},
     "output_type": "execute_result"
    }
   ],
   "source": [
    "feature.shape"
   ]
  },
  {
   "cell_type": "code",
   "execution_count": 8,
   "id": "1849a727",
   "metadata": {},
   "outputs": [],
   "source": [
    "nf = F.normalize(feature, p=2, dim=1)"
   ]
  },
  {
   "cell_type": "code",
   "execution_count": 12,
   "id": "77a1982f",
   "metadata": {},
   "outputs": [],
   "source": [
    "test = []\n",
    "for i in range(len(nf)):\n",
    "    test.append((nf[0] * nf[i]).sum().cpu().detach().numpy())\n",
    "test = np.array(test)"
   ]
  },
  {
   "cell_type": "code",
   "execution_count": 13,
   "id": "80017642",
   "metadata": {},
   "outputs": [
    {
     "data": {
      "text/plain": [
       "array([ 1.00000000e+00,  7.55907059e-01,  5.29074907e-01,  1.50028929e-01,\n",
       "        6.89192861e-02, -6.98245317e-02, -8.37925225e-02,  3.02345991e-01,\n",
       "       -2.84211300e-02, -1.10890664e-01,  5.40837571e-02,  2.02993095e-01,\n",
       "        1.28169417e-01,  1.86566561e-02, -6.48011789e-02,  2.44430244e-01,\n",
       "        3.80336285e-01, -3.62310261e-02, -8.48628134e-02, -2.09203005e-01,\n",
       "       -2.34309539e-01, -9.37954858e-02, -1.98078141e-01, -2.07107104e-02,\n",
       "       -1.54597238e-01, -3.78677920e-02,  5.32149337e-02,  2.64923453e-01,\n",
       "        6.67927980e-01,  4.52691853e-01,  5.42489104e-02, -1.05492495e-01,\n",
       "        1.66309655e-01, -1.56064183e-01, -1.10797271e-01, -1.55973703e-01,\n",
       "       -3.04991603e-01, -1.24436840e-02, -1.73000470e-01, -1.82665482e-01,\n",
       "        1.99563295e-01,  2.76902132e-02,  6.22400761e-01,  3.30067396e-01,\n",
       "        4.36978787e-02,  1.19995132e-01, -1.87902749e-01, -5.23677990e-02,\n",
       "       -3.93205225e-01, -9.97738466e-02, -6.45835027e-02, -1.18057486e-02,\n",
       "        3.70032713e-03, -3.11303176e-02, -3.78612578e-02,  2.18407631e-01,\n",
       "        2.22061321e-01,  2.22145066e-01, -1.57752391e-02, -7.33627081e-02,\n",
       "        1.76376313e-01, -2.43547469e-01, -2.32759669e-01, -1.70308828e-01,\n",
       "       -8.04928839e-02, -1.52389094e-01, -1.57007948e-01, -1.34950817e-01,\n",
       "       -5.72133996e-02, -1.01781577e-01,  1.68532610e-01,  9.64481980e-02,\n",
       "        2.93397844e-01,  2.56145112e-02, -8.89849365e-02, -1.39554977e-01,\n",
       "       -1.73127443e-01, -3.00089009e-02, -1.72325537e-01, -1.01554520e-01,\n",
       "       -2.20769122e-02, -8.39869305e-02, -6.79429397e-02, -2.13069562e-02,\n",
       "        2.27023512e-01,  4.87317741e-02,  1.18167266e-01, -4.45493385e-02,\n",
       "       -4.58303615e-02,  2.23017689e-02, -2.03073263e-01, -2.60194480e-01,\n",
       "       -1.59986138e-01, -1.38739958e-01, -1.58163816e-01, -1.54827014e-01,\n",
       "       -1.57207370e-01,  4.02489066e-01,  5.97184956e-01, -2.28747204e-02,\n",
       "        1.58887863e-01,  2.87313387e-02,  7.85953477e-02, -7.55353794e-02,\n",
       "        5.36391437e-02, -1.18189223e-01, -1.84997633e-01, -1.45492032e-01,\n",
       "       -2.20897377e-01, -2.03198358e-01, -4.88011986e-02, -2.85682566e-02,\n",
       "        2.14768685e-02,  6.25782833e-02,  7.74851218e-02,  2.87128031e-01,\n",
       "       -1.01402096e-01, -2.09246278e-01, -1.46324309e-02, -1.28613472e-01,\n",
       "       -1.34902716e-01, -8.40803310e-02, -1.46452814e-01,  1.45374209e-01,\n",
       "       -1.59656052e-02, -4.45240140e-02,  7.53441304e-02,  1.71388000e-01,\n",
       "        8.19320232e-02,  5.46564944e-02,  2.08565250e-01,  2.70248391e-04,\n",
       "       -1.31683379e-01,  6.48743361e-02, -7.87578821e-02, -2.29217768e-01,\n",
       "       -1.00227423e-01, -9.84231979e-02, -1.25987548e-02,  1.28184512e-01,\n",
       "        3.27487618e-01,  1.15858361e-01,  3.99741977e-02,  6.37607798e-02,\n",
       "       -1.12372220e-01,  1.10707924e-01,  1.00227416e-01, -2.44646177e-01,\n",
       "        1.71643212e-01, -2.91699860e-02, -1.54312849e-01, -5.48700914e-02,\n",
       "       -6.89745024e-02,  4.23620753e-02,  2.60781974e-01,  7.79405981e-02,\n",
       "        8.00151974e-02, -1.20748751e-01,  1.86302438e-01,  7.22967386e-02,\n",
       "        3.29727978e-02, -2.79343963e-01,  1.95880085e-01, -6.60279542e-02,\n",
       "        1.19677722e-01,  6.14247285e-02, -1.97983310e-02,  2.44278759e-01,\n",
       "        2.62120396e-01,  2.17114925e-01,  4.27665189e-02,  9.49897766e-02,\n",
       "       -1.69232160e-01, -4.57226485e-02,  1.80996880e-02,  1.79997772e-01,\n",
       "        2.14129567e-01, -1.70460325e-02, -2.17197239e-01,  9.52214450e-02,\n",
       "        3.57503183e-02,  4.40369993e-01,  3.79863262e-01,  1.60613328e-01,\n",
       "        5.14469333e-02,  1.83742177e-02,  1.11835815e-01,  7.90326297e-03,\n",
       "       -2.38731410e-03, -2.55478695e-02,  8.48775208e-02,  4.61655073e-02,\n",
       "        5.93524352e-02,  1.04555614e-01,  3.81213129e-01,  9.46176499e-02],\n",
       "      dtype=float32)"
      ]
     },
     "execution_count": 13,
     "metadata": {},
     "output_type": "execute_result"
    }
   ],
   "source": [
    "test"
   ]
  },
  {
   "cell_type": "code",
   "execution_count": 14,
   "id": "99a827d3",
   "metadata": {},
   "outputs": [
    {
     "data": {
      "text/plain": [
       "0.027689718"
      ]
     },
     "execution_count": 14,
     "metadata": {},
     "output_type": "execute_result"
    }
   ],
   "source": [
    "test.mean()"
   ]
  },
  {
   "cell_type": "code",
   "execution_count": null,
   "id": "79957c76",
   "metadata": {},
   "outputs": [],
   "source": [
    "t1 = F.normalize(torch.randn(1000), p=2, dim=0)\n",
    "t2 = F.normalize(torch.randn(1000), p=2, dim=0)"
   ]
  },
  {
   "cell_type": "code",
   "execution_count": null,
   "id": "6054dc79",
   "metadata": {},
   "outputs": [],
   "source": [
    "(t1*t2).sum()"
   ]
  },
  {
   "cell_type": "code",
   "execution_count": null,
   "id": "121cbc77",
   "metadata": {},
   "outputs": [],
   "source": []
  }
 ],
 "metadata": {
  "kernelspec": {
   "display_name": "Python 3",
   "language": "python",
   "name": "python3"
  },
  "language_info": {
   "codemirror_mode": {
    "name": "ipython",
    "version": 3
   },
   "file_extension": ".py",
   "mimetype": "text/x-python",
   "name": "python",
   "nbconvert_exporter": "python",
   "pygments_lexer": "ipython3",
   "version": "3.8.5"
  }
 },
 "nbformat": 4,
 "nbformat_minor": 5
}
